{
 "cells": [
  {
   "cell_type": "code",
   "execution_count": 1,
   "id": "6577924b",
   "metadata": {},
   "outputs": [],
   "source": [
    "import numpy as np\n",
    "import matplotlib.pyplot as plt"
   ]
  },
  {
   "cell_type": "markdown",
   "id": "cda7395f",
   "metadata": {},
   "source": [
    "Задание 1. Выберите произвольное начальное состояние и смоделируйте 20000 последующих состояний в цепи Маркова с введенной выше матрицей переходов. Результат моделирования (массив размера 20000) запишите в переменную states."
   ]
  },
  {
   "cell_type": "code",
   "execution_count": 8,
   "id": "c93a9ea5",
   "metadata": {},
   "outputs": [],
   "source": [
    "state_wheather = (\"sunny\", \"cloudy\", \"rainy\")\n",
    "transition_matrix = np.array(((0.6, 0.3, 0.1),\n",
    "                              (0.3, 0.4, 0.3),\n",
    "                              (0.2, 0.3, 0.5)))"
   ]
  },
  {
   "cell_type": "code",
   "execution_count": 9,
   "id": "df105785",
   "metadata": {},
   "outputs": [],
   "source": [
    "start = np.random.randint(0,3)\n"
   ]
  },
  {
   "cell_type": "code",
   "execution_count": 10,
   "id": "1b4c87e8",
   "metadata": {},
   "outputs": [],
   "source": [
    "def step(current):\n",
    "    next_st = np.random.sample()\n",
    "    if next_st <= (transition_matrix[current,0]):\n",
    "        return 0\n",
    "    if next_st > (transition_matrix[current,0]) and next_st <= (transition_matrix[current,1]) + (transition_matrix[current,0]):\n",
    "        return 1\n",
    "    if next_st > (transition_matrix[current,1]) + (transition_matrix[current,0]):\n",
    "        return 2"
   ]
  },
  {
   "cell_type": "code",
   "execution_count": 15,
   "id": "82968305",
   "metadata": {},
   "outputs": [],
   "source": [
    "states = []\n",
    "current = start\n",
    "for i in range(20000):\n",
    "    current = step(current)\n",
    "    states.append(state_wheather[current])"
   ]
  },
  {
   "cell_type": "markdown",
   "id": "a7188d31",
   "metadata": {},
   "source": [
    "Задание 2. На основе массива states рассчитайте, как меняется частота встречаемости каждого из типов погоды в массиве states[:n] для n, возрастающих от 1 до 20000. На одном рисунке покажите 3 графика: по оси х откладывайте n, по у - частоту для каждого из трех типов погоды."
   ]
  },
  {
   "cell_type": "code",
   "execution_count": 17,
   "id": "f3dc015f",
   "metadata": {},
   "outputs": [],
   "source": [
    "rainy = []\n",
    "sunny = []\n",
    "cloudy = []\n",
    "\n",
    "\n",
    "rainy_num = 0\n",
    "sunny_num = 0\n",
    "cloudy_num = 0\n",
    "\n",
    "\n",
    "for i in range(20000):\n",
    "    if states[i] == \"sunny\":\n",
    "        sunny_num = sunny_num + 1\n",
    "    if states[i] == \"cloudy\":\n",
    "        cloudy_num = cloudy_num + 1\n",
    "    if states[i] == \"rainy\":\n",
    "        rainy_num = rainy_num + 1\n",
    "    rainy.append(rainy_num/(i+1))\n",
    "    cloudy.append(cloudy_num/(i+1))\n",
    "    sunny.append(sunny_num/(i+1))\n",
    "    "
   ]
  },
  {
   "cell_type": "code",
   "execution_count": 22,
   "id": "643c0d37",
   "metadata": {},
   "outputs": [
    {
     "data": {
      "image/png": "[encoded data removed]",
      "text/plain": [
       "<Figure size 432x288 with 1 Axes>"
      ]
     },
     "metadata": {
      "needs_background": "light"
     },
     "output_type": "display_data"
    }
   ],
   "source": [
    "plt.title(\"Сравнение\")\n",
    "plt.plot(range(20000), rainy, color = 'red')\n",
    "plt.plot(range(20000), cloudy, color = 'blue')\n",
    "plt.plot(range(20000), sunny, color = 'green')\n",
    "\n",
    "plt.show()"
   ]
  },
  {
   "cell_type": "markdown",
   "id": "7d934cc0",
   "metadata": {},
   "source": [
    "Задание 3. Как следует из картинки, частоты сходятся к некоторым стационарным значениям. Убедитесь, что эти значения совпадают с решением уравнения на стационарную плотность πP=π, где P - это матрица переходных вероятностей (transition_matrix), а вектор π - искомая стационарная плотность. Дополнительно убедитесь, это этот же вектор возникает в строках матрицы P, при возведении ее во все большие степени."
   ]
  },
  {
   "cell_type": "code",
   "execution_count": 24,
   "id": "f74f0759",
   "metadata": {},
   "outputs": [
    {
     "name": "stdout",
     "output_type": "stream",
     "text": [
      "[[0.38888889 0.33333333 0.27777778]\n",
      " [0.38888889 0.33333333 0.27777778]\n",
      " [0.38888889 0.33333333 0.27777778]]\n"
     ]
    }
   ],
   "source": [
    "matr = np.dot(transition_matrix,transition_matrix)\n",
    "for i in range(20000-1):\n",
    "    matr = np.dot(matr,transition_matrix)\n",
    "print(matr)"
   ]
  },
  {
   "cell_type": "markdown",
   "id": "24260756",
   "metadata": {},
   "source": [
    "Получаем, что строки при больших n выглядят примерно одинаково, притом значения вероятностей сходятся к тем, что мы видим на графике."
   ]
  },
  {
   "cell_type": "markdown",
   "id": "264f575b",
   "metadata": {},
   "source": [
    "Задание 4. Примените алгоритм Metropolis для генерации выборки из смеси двух гауссиан. Плотность смеси задается в виде p(x) = 0.3N(-4, 2) + 0.7N(3, 6), где N(a, b) - плотность нормального распределения со средним a и дисперсией b. Для наглядности, ниже приведен график плотности смеси. Покажите, что гистограмма, построенная по выборке, приближает заданную плотность смеси."
   ]
  },
  {
   "cell_type": "code",
   "execution_count": 25,
   "id": "231eb64e",
   "metadata": {},
   "outputs": [],
   "source": [
    "def metroplis(start, value, proposal, niter, nburn=0, **kwargs):\n",
    "    '''Generic Metropolis scheme.\n",
    "\n",
    "    Parameters\n",
    "    ---\n",
    "    start : misc\n",
    "        Initial guess.\n",
    "    value : callable\n",
    "        Function to calculate density (unnormalized) at given point.\n",
    "    proposal : callable\n",
    "        Function to get suggestion on a new point based on a current one.\n",
    "    niter : int\n",
    "        Number of iterations.\n",
    "    nburn : int\n",
    "        Number of initial samples to be skipped.\n",
    "    kwargs : dict\n",
    "        Keywords to be passed in value and proposal.\n",
    "\n",
    "    Return\n",
    "    ---\n",
    "    post : list\n",
    "        List of samples obtained.\n",
    "    '''\n",
    "    current = start\n",
    "    post = [current]\n",
    "    for i in range(niter):\n",
    "        proposed = proposal(current, **kwargs)\n",
    "        p = value(proposed, **kwargs) / value(current, **kwargs)\n",
    "        if np.random.rand() < p:\n",
    "            current = proposed\n",
    "        post.append(current)\n",
    "    return post[nburn:]"
   ]
  },
  {
   "cell_type": "code",
   "execution_count": 26,
   "id": "e002e6a8",
   "metadata": {},
   "outputs": [
    {
     "data": {
      "image/png": "[encoded data removed]",
      "text/plain": [
       "<Figure size 432x288 with 1 Axes>"
      ]
     },
     "metadata": {
      "needs_background": "light"
     },
     "output_type": "display_data"
    }
   ],
   "source": [
    "from scipy.stats import norm\n",
    "\n",
    "x = np.linspace(-10, 10, 1000)\n",
    "y = 0.3*norm(-4, np.sqrt(2)).pdf(x) + 0.7*norm(3, np.sqrt(6)).pdf(x)\n",
    "\n",
    "plt.plot(x, y)\n",
    "plt.show()"
   ]
  },
  {
   "cell_type": "code",
   "execution_count": 34,
   "id": "0baccc95",
   "metadata": {},
   "outputs": [],
   "source": [
    "start = np.random.rand()*10*np.random.choice([-1, 1])"
   ]
  },
  {
   "cell_type": "code",
   "execution_count": 40,
   "id": "3a6a650b",
   "metadata": {},
   "outputs": [],
   "source": [
    "from math import exp, pi, sqrt"
   ]
  },
  {
   "cell_type": "code",
   "execution_count": 59,
   "id": "7dd7edb8",
   "metadata": {},
   "outputs": [
    {
     "data": {
      "image/png": "[encoded data removed]",
      "text/plain": [
       "<Figure size 432x288 with 1 Axes>"
      ]
     },
     "metadata": {
      "needs_background": "light"
     },
     "output_type": "display_data"
    }
   ],
   "source": [
    "from scipy.stats import norm\n",
    "\n",
    "x = np.linspace(-10, 10, 1000)\n",
    "y = 0.3*norm(-4, np.sqrt(2)).pdf(x) + 0.7*norm(3, np.sqrt(6)).pdf(x)\n",
    "\n",
    "#0.3N(-4, 2) + 0.7N(3, 6)\n",
    "value = lambda x: ((0.3/sqrt(4*pi))*exp(-(x+4)*(x+4)/4) + (0.7/sqrt(6*pi))*exp(-(x-3)*(x-3)/6))\n",
    "proposal = lambda x: (x + np.random.rand()*np.random.choice([-1, 1])) \n",
    "post = metroplis(1, value, proposal, 50000)\n",
    "\n",
    "plt.hist(post, bins=5000, rwidth=0.8, density=True, color = \"red\")\n",
    "plt.plot(x, y)\n",
    "\n",
    "plt.show()"
   ]
  },
  {
   "cell_type": "code",
   "execution_count": null,
   "id": "c8ee1361",
   "metadata": {},
   "outputs": [],
   "source": []
  }
 ],
 "metadata": {
  "kernelspec": {
   "display_name": "Python 3",
   "language": "python",
   "name": "python3"
  },
  "language_info": {
   "codemirror_mode": {
    "name": "ipython",
    "version": 3
   },
   "file_extension": ".py",
   "mimetype": "text/x-python",
   "name": "python",
   "nbconvert_exporter": "python",
   "pygments_lexer": "ipython3",
   "version": "3.8.8"
  }
 },
 "nbformat": 4,
 "nbformat_minor": 5
}
