{
 "cells": [
  {
   "cell_type": "code",
   "execution_count": null,
   "id": "46375eb7",
   "metadata": {},
   "outputs": [],
   "source": [
    "from PIL import Image\n",
    "import matplotlib.pyplot as plt\n",
    "import numpy as np\n",
    "import pandas as pd\n",
    "import requests\n",
    "from io import BytesIO\n",
    "from mpl_toolkits.mplot3d import Axes3D\n",
    "from sklearn.decomposition import PCA"
   ]
  },
  {
   "cell_type": "code",
   "execution_count": null,
   "id": "27abf0c5",
   "metadata": {},
   "outputs": [],
   "source": [
    "url = 'https://mymodernmet.com/wp/wp-content/uploads/2017/08/monovision-awards-bw-series-of-the-year-2017-02.jpg'\n",
    "response = requests.get(url)\n",
    "img = Image.open(BytesIO(response.content)).convert('L')\n",
    "np.array(img)"
   ]
  },
  {
   "cell_type": "code",
   "execution_count": null,
   "id": "8abcf146",
   "metadata": {},
   "outputs": [],
   "source": [
    "from sklearn.datasets import fetch_openml\n",
    "digits = fetch_openml('mnist_784')\n",
    "digits.data.shape\n",
    "\n",
    "images = digits.data.values.reshape(-1, 28, 28)"
   ]
  },
  {
   "cell_type": "code",
   "execution_count": 11,
   "id": "5d8904a8",
   "metadata": {},
   "outputs": [],
   "source": [
    "from sklearn.decomposition import PCA\n",
    "pca = PCA(n_components=50)\n",
    "\n",
    "X_transformed = pca.fit_transform(digits.data.astype(float))\n",
    "X_restored = pca.inverse_transform(X_transformed)"
   ]
  },
  {
   "cell_type": "code",
   "execution_count": 12,
   "id": "394d97ad",
   "metadata": {},
   "outputs": [
    {
     "data": {
      "image/png": "[encoded data removed]",
      "text/plain": [
       "<Figure size 432x288 with 2 Axes>"
      ]
     },
     "metadata": {
      "needs_background": "light"
     },
     "output_type": "display_data"
    }
   ],
   "source": [
    "%matplotlib inline\n",
    "i = 540\n",
    "fig, ax = plt.subplots(1, 2)\n",
    "ax[0].imshow(images[i], cmap='gray')\n",
    "ax[1].imshow(X_restored[i].reshape(28, 28), cmap='gray')\n",
    "ax[0].set_title('Original')\n",
    "ax[1].set_title('Restored')\n",
    "plt.show()"
   ]
  },
  {
   "cell_type": "markdown",
   "id": "0c6bf94a",
   "metadata": {},
   "source": [
    "### Задача 1\n",
    "Выпишите явное линейное преобразование, которое отображает точку из подространства главных компонент в исходное пространство (заполните ??? так, чтобы результат совпал с результатом в предыдущей ячейке)"
   ]
  },
  {
   "cell_type": "code",
   "execution_count": 13,
   "id": "88b532c3",
   "metadata": {},
   "outputs": [
    {
     "data": {
      "image/png": "[encoded data removed]",
      "text/plain": [
       "<Figure size 432x288 with 2 Axes>"
      ]
     },
     "metadata": {
      "needs_background": "light"
     },
     "output_type": "display_data"
    }
   ],
   "source": [
    "res = np.dot(X_transformed, pca.components_) + pca.mean_\n",
    "\n",
    "i = 540\n",
    "fig, ax = plt.subplots(1, 2)\n",
    "ax[0].imshow(images[i], cmap='gray')\n",
    "ax[1].imshow(res[i].reshape(28, 28), cmap='gray')\n",
    "ax[0].set_title('Original')\n",
    "ax[1].set_title('Restored')\n",
    "plt.show()"
   ]
  },
  {
   "cell_type": "markdown",
   "id": "a2c86d8b",
   "metadata": {},
   "source": [
    "### Задача 2\n",
    "Определите, сколько нужно взять главных компонент, чтобы объяснить 99%, 95%, 90%, и 85% исходной дисперсии."
   ]
  },
  {
   "cell_type": "code",
   "execution_count": 14,
   "id": "440e261d",
   "metadata": {},
   "outputs": [],
   "source": [
    "pca = PCA()\n",
    "X_transformed = pca.fit_transform(digits.data.astype(float)) "
   ]
  },
  {
   "cell_type": "code",
   "execution_count": 15,
   "id": "4db6f011",
   "metadata": {},
   "outputs": [],
   "source": [
    "full_var = pca.explained_variance_ratio_.cumsum().round(2) * 100"
   ]
  },
  {
   "cell_type": "code",
   "execution_count": 16,
   "id": "4a4060e7",
   "metadata": {},
   "outputs": [
    {
     "name": "stdout",
     "output_type": "stream",
     "text": [
      "Для 100%:  584\n"
     ]
    }
   ],
   "source": [
    "perc_full = int(round(np.mean(np.where(full_var == 100))))\n",
    "print('Для 100%: ', perc_full )"
   ]
  },
  {
   "cell_type": "code",
   "execution_count": 17,
   "id": "a62b6b66",
   "metadata": {},
   "outputs": [
    {
     "name": "stdout",
     "output_type": "stream",
     "text": [
      "Для 99%:  338\n"
     ]
    }
   ],
   "source": [
    "perc_99 = int(round(np.mean(np.where(full_var == 99))))\n",
    "print('Для 99%: ', perc_99)"
   ]
  },
  {
   "cell_type": "code",
   "execution_count": 18,
   "id": "17dc1414",
   "metadata": {},
   "outputs": [
    {
     "name": "stdout",
     "output_type": "stream",
     "text": [
      "Для 95%:  153\n"
     ]
    }
   ],
   "source": [
    "perc_95 = int(round(np.mean(np.where(full_var == 95))))\n",
    "print('Для 95%: ', perc_95)"
   ]
  },
  {
   "cell_type": "code",
   "execution_count": 19,
   "id": "8bde797e",
   "metadata": {},
   "outputs": [
    {
     "name": "stdout",
     "output_type": "stream",
     "text": [
      "Для 90%:  86\n"
     ]
    }
   ],
   "source": [
    "perc_90 = int(round(np.mean(np.where(full_var == 90))))\n",
    "print('Для 90%: ', perc_90)"
   ]
  },
  {
   "cell_type": "code",
   "execution_count": 20,
   "id": "35849758",
   "metadata": {},
   "outputs": [
    {
     "name": "stdout",
     "output_type": "stream",
     "text": [
      "Для 85%:  86\n"
     ]
    }
   ],
   "source": [
    "perc_85 = int(round(np.mean(np.where(full_var == 85))))\n",
    "print('Для 85%: ', perc_90)"
   ]
  },
  {
   "cell_type": "markdown",
   "id": "dc2fc80e",
   "metadata": {},
   "source": [
    "### Задача 3\n",
    "Нарисуйте пример исходного изображения и результат восстановления из числа компонент, которое вы нашли в предыдущей задаче.\n",
    "\n"
   ]
  },
  {
   "cell_type": "code",
   "execution_count": 22,
   "id": "38bcf760",
   "metadata": {},
   "outputs": [
    {
     "data": {
      "image/png": "[encoded data removed]",
      "text/plain": [
       "<Figure size 432x288 with 2 Axes>"
      ]
     },
     "metadata": {
      "needs_background": "light"
     },
     "output_type": "display_data"
    }
   ],
   "source": [
    "%matplotlib inline\n",
    "i = 540\n",
    "fig, ax = plt.subplots(1, 2)\n",
    "\n",
    "pca_99 = PCA(perc_99)\n",
    "trans_99 = pca_99.fit_transform(digits.data.astype(float))\n",
    "restored_99 = pca_99.inverse_transform(trans_99)\n",
    "\n",
    "ax[0].imshow(images[i], cmap='gray')\n",
    "ax[1].imshow(restored_99[i].reshape(28, 28), cmap='gray')\n",
    "ax[0].set_title('Original')\n",
    "ax[1].set_title('Restored 99%')\n",
    "plt.show()"
   ]
  },
  {
   "cell_type": "code",
   "execution_count": 23,
   "id": "db904efc",
   "metadata": {},
   "outputs": [
    {
     "data": {
      "image/png": "[encoded data removed]",
      "text/plain": [
       "<Figure size 432x288 with 2 Axes>"
      ]
     },
     "metadata": {
      "needs_background": "light"
     },
     "output_type": "display_data"
    }
   ],
   "source": [
    "%matplotlib inline\n",
    "i = 540\n",
    "fig, ax = plt.subplots(1, 2)\n",
    "\n",
    "pca_95 = PCA(perc_95)\n",
    "trans_95 = pca_95.fit_transform(digits.data.astype(float))\n",
    "restored_95 = pca_95.inverse_transform(trans_95)\n",
    "\n",
    "ax[0].imshow(images[i], cmap='gray')\n",
    "ax[1].imshow(restored_95[i].reshape(28, 28), cmap='gray')\n",
    "ax[0].set_title('Original')\n",
    "ax[1].set_title('Restored 95%')\n",
    "plt.show()"
   ]
  },
  {
   "cell_type": "code",
   "execution_count": 24,
   "id": "f6aa787e",
   "metadata": {},
   "outputs": [
    {
     "data": {
      "image/png": "[encoded data removed]",
      "text/plain": [
       "<Figure size 432x288 with 2 Axes>"
      ]
     },
     "metadata": {
      "needs_background": "light"
     },
     "output_type": "display_data"
    }
   ],
   "source": [
    "%matplotlib inline\n",
    "i = 540\n",
    "fig, ax = plt.subplots(1, 2)\n",
    "\n",
    "pca_90 = PCA(perc_90)\n",
    "trans_90 = pca_90.fit_transform(digits.data.astype(float))\n",
    "restored_90 = pca_90.inverse_transform(trans_90)\n",
    "\n",
    "ax[0].imshow(images[i], cmap='gray')\n",
    "ax[1].imshow(restored_90[i].reshape(28, 28), cmap='gray')\n",
    "ax[0].set_title('Original')\n",
    "ax[1].set_title('Restored 90%')\n",
    "plt.show()"
   ]
  },
  {
   "cell_type": "code",
   "execution_count": 25,
   "id": "e2d83739",
   "metadata": {},
   "outputs": [
    {
     "data": {
      "image/png": "[encoded data removed]",
      "text/plain": [
       "<Figure size 432x288 with 2 Axes>"
      ]
     },
     "metadata": {
      "needs_background": "light"
     },
     "output_type": "display_data"
    }
   ],
   "source": [
    "%matplotlib inline\n",
    "i = 540\n",
    "fig, ax = plt.subplots(1, 2)\n",
    "\n",
    "pca_85 = PCA(perc_85)\n",
    "trans_85 = pca_85.fit_transform(digits.data.astype(float))\n",
    "restored_85 = pca_85.inverse_transform(trans_85)\n",
    "\n",
    "ax[0].imshow(images[i], cmap='gray')\n",
    "ax[1].imshow(restored_85[i].reshape(28, 28), cmap='gray')\n",
    "ax[0].set_title('Original')\n",
    "ax[1].set_title('Restored 85%')\n",
    "plt.show()"
   ]
  }
 ],
 "metadata": {
  "kernelspec": {
   "display_name": "Python 3",
   "language": "python",
   "name": "python3"
  },
  "language_info": {
   "codemirror_mode": {
    "name": "ipython",
    "version": 3
   },
   "file_extension": ".py",
   "mimetype": "text/x-python",
   "name": "python",
   "nbconvert_exporter": "python",
   "pygments_lexer": "ipython3",
   "version": "3.8.8"
  }
 },
 "nbformat": 4,
 "nbformat_minor": 5
}
